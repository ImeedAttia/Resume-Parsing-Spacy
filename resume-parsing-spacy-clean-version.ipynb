{
 "cells": [
  {
   "cell_type": "code",
   "execution_count": 1,
   "id": "d8c11f37",
   "metadata": {
    "_cell_guid": "ea570fa0-f3ba-49ba-86e7-f8ae0cc9b1a2",
    "_uuid": "ea97614c-0176-4374-9030-c4c3e4927682",
    "collapsed": false,
    "execution": {
     "iopub.execute_input": "2023-02-08T19:46:19.197496Z",
     "iopub.status.busy": "2023-02-08T19:46:19.196966Z",
     "iopub.status.idle": "2023-02-08T19:46:49.305761Z",
     "shell.execute_reply": "2023-02-08T19:46:49.304524Z"
    },
    "id": "XoEiMOoTIGOb",
    "jupyter": {
     "outputs_hidden": false
    },
    "outputId": "54a08033-6d26-4b91-a0c9-decde5c6d602",
    "papermill": {
     "duration": 30.121064,
     "end_time": "2023-02-08T19:46:49.308417",
     "exception": false,
     "start_time": "2023-02-08T19:46:19.187353",
     "status": "completed"
    },
    "tags": []
   },
   "outputs": [
    {
     "name": "stdout",
     "output_type": "stream",
     "text": [
      "Collecting spacy_transformers\r\n",
      "  Downloading spacy_transformers-1.2.1-cp37-cp37m-manylinux_2_17_x86_64.manylinux2014_x86_64.whl (189 kB)\r\n",
      "\u001b[2K     \u001b[90m━━━━━━━━━━━━━━━━━━━━━━━━━━━━━━━━━━━━━━━\u001b[0m \u001b[32m189.0/189.0 kB\u001b[0m \u001b[31m2.9 MB/s\u001b[0m eta \u001b[36m0:00:00\u001b[0m\r\n",
      "\u001b[?25hRequirement already satisfied: numpy>=1.15.0 in /opt/conda/lib/python3.7/site-packages (from spacy_transformers) (1.21.6)\r\n",
      "Requirement already satisfied: torch>=1.6.0 in /opt/conda/lib/python3.7/site-packages (from spacy_transformers) (1.11.0)\r\n",
      "Requirement already satisfied: srsly<3.0.0,>=2.4.0 in /opt/conda/lib/python3.7/site-packages (from spacy_transformers) (2.4.5)\r\n",
      "Collecting spacy-alignments<1.0.0,>=0.7.2\r\n",
      "  Downloading spacy_alignments-0.9.0-cp37-cp37m-manylinux_2_17_x86_64.manylinux2014_x86_64.whl (1.2 MB)\r\n",
      "\u001b[2K     \u001b[90m━━━━━━━━━━━━━━━━━━━━━━━━━━━━━━━━━━━━━━━━\u001b[0m \u001b[32m1.2/1.2 MB\u001b[0m \u001b[31m17.5 MB/s\u001b[0m eta \u001b[36m0:00:00\u001b[0m\r\n",
      "\u001b[?25hCollecting spacy<4.0.0,>=3.4.0\r\n",
      "  Downloading spacy-3.5.0-cp37-cp37m-manylinux_2_17_x86_64.manylinux2014_x86_64.whl (6.5 MB)\r\n",
      "\u001b[2K     \u001b[90m━━━━━━━━━━━━━━━━━━━━━━━━━━━━━━━━━━━━━━━━\u001b[0m \u001b[32m6.5/6.5 MB\u001b[0m \u001b[31m66.9 MB/s\u001b[0m eta \u001b[36m0:00:00\u001b[0m\r\n",
      "\u001b[?25hRequirement already satisfied: transformers<4.27.0,>=3.4.0 in /opt/conda/lib/python3.7/site-packages (from spacy_transformers) (4.20.1)\r\n",
      "Requirement already satisfied: langcodes<4.0.0,>=3.2.0 in /opt/conda/lib/python3.7/site-packages (from spacy<4.0.0,>=3.4.0->spacy_transformers) (3.3.0)\r\n",
      "Requirement already satisfied: murmurhash<1.1.0,>=0.28.0 in /opt/conda/lib/python3.7/site-packages (from spacy<4.0.0,>=3.4.0->spacy_transformers) (1.0.9)\r\n",
      "Requirement already satisfied: catalogue<2.1.0,>=2.0.6 in /opt/conda/lib/python3.7/site-packages (from spacy<4.0.0,>=3.4.0->spacy_transformers) (2.0.8)\r\n",
      "Requirement already satisfied: wasabi<1.2.0,>=0.9.1 in /opt/conda/lib/python3.7/site-packages (from spacy<4.0.0,>=3.4.0->spacy_transformers) (0.10.1)\r\n",
      "Requirement already satisfied: jinja2 in /opt/conda/lib/python3.7/site-packages (from spacy<4.0.0,>=3.4.0->spacy_transformers) (3.1.2)\r\n",
      "Requirement already satisfied: smart-open<7.0.0,>=5.2.1 in /opt/conda/lib/python3.7/site-packages (from spacy<4.0.0,>=3.4.0->spacy_transformers) (5.2.1)\r\n",
      "Requirement already satisfied: requests<3.0.0,>=2.13.0 in /opt/conda/lib/python3.7/site-packages (from spacy<4.0.0,>=3.4.0->spacy_transformers) (2.28.1)\r\n",
      "Requirement already satisfied: typing-extensions<4.5.0,>=3.7.4.1 in /opt/conda/lib/python3.7/site-packages (from spacy<4.0.0,>=3.4.0->spacy_transformers) (4.1.1)\r\n",
      "Requirement already satisfied: tqdm<5.0.0,>=4.38.0 in /opt/conda/lib/python3.7/site-packages (from spacy<4.0.0,>=3.4.0->spacy_transformers) (4.64.0)\r\n",
      "Requirement already satisfied: setuptools in /opt/conda/lib/python3.7/site-packages (from spacy<4.0.0,>=3.4.0->spacy_transformers) (59.8.0)\r\n",
      "Collecting spacy-legacy<3.1.0,>=3.0.11\r\n",
      "  Downloading spacy_legacy-3.0.12-py2.py3-none-any.whl (29 kB)\r\n",
      "Collecting thinc<8.2.0,>=8.1.0\r\n",
      "  Downloading thinc-8.1.7-cp37-cp37m-manylinux_2_17_x86_64.manylinux2014_x86_64.whl (815 kB)\r\n",
      "\u001b[2K     \u001b[90m━━━━━━━━━━━━━━━━━━━━━━━━━━━━━━━━━━━━━━\u001b[0m \u001b[32m815.9/815.9 kB\u001b[0m \u001b[31m46.4 MB/s\u001b[0m eta \u001b[36m0:00:00\u001b[0m\r\n",
      "\u001b[?25hRequirement already satisfied: preshed<3.1.0,>=3.0.2 in /opt/conda/lib/python3.7/site-packages (from spacy<4.0.0,>=3.4.0->spacy_transformers) (3.0.8)\r\n",
      "Requirement already satisfied: spacy-loggers<2.0.0,>=1.0.0 in /opt/conda/lib/python3.7/site-packages (from spacy<4.0.0,>=3.4.0->spacy_transformers) (1.0.3)\r\n",
      "Requirement already satisfied: pydantic!=1.8,!=1.8.1,<1.11.0,>=1.7.4 in /opt/conda/lib/python3.7/site-packages (from spacy<4.0.0,>=3.4.0->spacy_transformers) (1.8.2)\r\n",
      "Requirement already satisfied: typer<0.8.0,>=0.3.0 in /opt/conda/lib/python3.7/site-packages (from spacy<4.0.0,>=3.4.0->spacy_transformers) (0.4.2)\r\n",
      "Collecting pathy>=0.10.0\r\n",
      "  Downloading pathy-0.10.1-py3-none-any.whl (48 kB)\r\n",
      "\u001b[2K     \u001b[90m━━━━━━━━━━━━━━━━━━━━━━━━━━━━━━━━━━━━━━━━\u001b[0m \u001b[32m48.9/48.9 kB\u001b[0m \u001b[31m3.5 MB/s\u001b[0m eta \u001b[36m0:00:00\u001b[0m\r\n",
      "\u001b[?25hRequirement already satisfied: packaging>=20.0 in /opt/conda/lib/python3.7/site-packages (from spacy<4.0.0,>=3.4.0->spacy_transformers) (21.3)\r\n",
      "Requirement already satisfied: cymem<2.1.0,>=2.0.2 in /opt/conda/lib/python3.7/site-packages (from spacy<4.0.0,>=3.4.0->spacy_transformers) (2.0.7)\r\n",
      "Requirement already satisfied: filelock in /opt/conda/lib/python3.7/site-packages (from transformers<4.27.0,>=3.4.0->spacy_transformers) (3.7.1)\r\n",
      "Requirement already satisfied: regex!=2019.12.17 in /opt/conda/lib/python3.7/site-packages (from transformers<4.27.0,>=3.4.0->spacy_transformers) (2021.11.10)\r\n",
      "Requirement already satisfied: tokenizers!=0.11.3,<0.13,>=0.11.1 in /opt/conda/lib/python3.7/site-packages (from transformers<4.27.0,>=3.4.0->spacy_transformers) (0.12.1)\r\n",
      "Requirement already satisfied: pyyaml>=5.1 in /opt/conda/lib/python3.7/site-packages (from transformers<4.27.0,>=3.4.0->spacy_transformers) (6.0)\r\n",
      "Requirement already satisfied: huggingface-hub<1.0,>=0.1.0 in /opt/conda/lib/python3.7/site-packages (from transformers<4.27.0,>=3.4.0->spacy_transformers) (0.10.1)\r\n",
      "Requirement already satisfied: importlib-metadata in /opt/conda/lib/python3.7/site-packages (from transformers<4.27.0,>=3.4.0->spacy_transformers) (4.13.0)\r\n",
      "Requirement already satisfied: zipp>=0.5 in /opt/conda/lib/python3.7/site-packages (from catalogue<2.1.0,>=2.0.6->spacy<4.0.0,>=3.4.0->spacy_transformers) (3.8.0)\r\n",
      "Requirement already satisfied: pyparsing!=3.0.5,>=2.0.2 in /opt/conda/lib/python3.7/site-packages (from packaging>=20.0->spacy<4.0.0,>=3.4.0->spacy_transformers) (3.0.9)\r\n",
      "Requirement already satisfied: urllib3<1.27,>=1.21.1 in /opt/conda/lib/python3.7/site-packages (from requests<3.0.0,>=2.13.0->spacy<4.0.0,>=3.4.0->spacy_transformers) (1.26.12)\r\n",
      "Requirement already satisfied: charset-normalizer<3,>=2 in /opt/conda/lib/python3.7/site-packages (from requests<3.0.0,>=2.13.0->spacy<4.0.0,>=3.4.0->spacy_transformers) (2.1.0)\r\n",
      "Requirement already satisfied: idna<4,>=2.5 in /opt/conda/lib/python3.7/site-packages (from requests<3.0.0,>=2.13.0->spacy<4.0.0,>=3.4.0->spacy_transformers) (3.3)\r\n",
      "Requirement already satisfied: certifi>=2017.4.17 in /opt/conda/lib/python3.7/site-packages (from requests<3.0.0,>=2.13.0->spacy<4.0.0,>=3.4.0->spacy_transformers) (2022.9.24)\r\n",
      "Requirement already satisfied: confection<1.0.0,>=0.0.1 in /opt/conda/lib/python3.7/site-packages (from thinc<8.2.0,>=8.1.0->spacy<4.0.0,>=3.4.0->spacy_transformers) (0.0.3)\r\n",
      "Requirement already satisfied: blis<0.8.0,>=0.7.8 in /opt/conda/lib/python3.7/site-packages (from thinc<8.2.0,>=8.1.0->spacy<4.0.0,>=3.4.0->spacy_transformers) (0.7.9)\r\n",
      "Requirement already satisfied: click<9.0.0,>=7.1.1 in /opt/conda/lib/python3.7/site-packages (from typer<0.8.0,>=0.3.0->spacy<4.0.0,>=3.4.0->spacy_transformers) (8.0.4)\r\n",
      "Requirement already satisfied: MarkupSafe>=2.0 in /opt/conda/lib/python3.7/site-packages (from jinja2->spacy<4.0.0,>=3.4.0->spacy_transformers) (2.1.1)\r\n",
      "Installing collected packages: spacy-legacy, spacy-alignments, thinc, pathy, spacy, spacy_transformers\r\n",
      "  Attempting uninstall: spacy-legacy\r\n",
      "    Found existing installation: spacy-legacy 3.0.10\r\n",
      "    Uninstalling spacy-legacy-3.0.10:\r\n",
      "      Successfully uninstalled spacy-legacy-3.0.10\r\n",
      "  Attempting uninstall: thinc\r\n",
      "    Found existing installation: thinc 8.0.17\r\n",
      "    Uninstalling thinc-8.0.17:\r\n",
      "      Successfully uninstalled thinc-8.0.17\r\n",
      "  Attempting uninstall: pathy\r\n",
      "    Found existing installation: pathy 0.6.2\r\n",
      "    Uninstalling pathy-0.6.2:\r\n",
      "      Successfully uninstalled pathy-0.6.2\r\n",
      "  Attempting uninstall: spacy\r\n",
      "    Found existing installation: spacy 3.3.1\r\n",
      "    Uninstalling spacy-3.3.1:\r\n",
      "      Successfully uninstalled spacy-3.3.1\r\n",
      "\u001b[31mERROR: pip's dependency resolver does not currently take into account all the packages that are installed. This behaviour is the source of the following dependency conflicts.\r\n",
      "en-core-web-sm 3.3.0 requires spacy<3.4.0,>=3.3.0.dev0, but you have spacy 3.5.0 which is incompatible.\r\n",
      "en-core-web-lg 3.3.0 requires spacy<3.4.0,>=3.3.0.dev0, but you have spacy 3.5.0 which is incompatible.\r\n",
      "allennlp 2.10.1 requires spacy<3.4,>=2.1.0, but you have spacy 3.5.0 which is incompatible.\u001b[0m\u001b[31m\r\n",
      "\u001b[0mSuccessfully installed pathy-0.10.1 spacy-3.5.0 spacy-alignments-0.9.0 spacy-legacy-3.0.12 spacy_transformers-1.2.1 thinc-8.1.7\r\n",
      "\u001b[33mWARNING: Running pip as the 'root' user can result in broken permissions and conflicting behaviour with the system package manager. It is recommended to use a virtual environment instead: https://pip.pypa.io/warnings/venv\u001b[0m\u001b[33m\r\n",
      "\u001b[0mRequirement already satisfied: spacy in /opt/conda/lib/python3.7/site-packages (3.5.0)\r\n",
      "Requirement already satisfied: preshed<3.1.0,>=3.0.2 in /opt/conda/lib/python3.7/site-packages (from spacy) (3.0.8)\r\n",
      "Requirement already satisfied: cymem<2.1.0,>=2.0.2 in /opt/conda/lib/python3.7/site-packages (from spacy) (2.0.7)\r\n",
      "Requirement already satisfied: typer<0.8.0,>=0.3.0 in /opt/conda/lib/python3.7/site-packages (from spacy) (0.4.2)\r\n",
      "Requirement already satisfied: murmurhash<1.1.0,>=0.28.0 in /opt/conda/lib/python3.7/site-packages (from spacy) (1.0.9)\r\n",
      "Requirement already satisfied: numpy>=1.15.0 in /opt/conda/lib/python3.7/site-packages (from spacy) (1.21.6)\r\n",
      "Requirement already satisfied: tqdm<5.0.0,>=4.38.0 in /opt/conda/lib/python3.7/site-packages (from spacy) (4.64.0)\r\n",
      "Requirement already satisfied: setuptools in /opt/conda/lib/python3.7/site-packages (from spacy) (59.8.0)\r\n",
      "Requirement already satisfied: jinja2 in /opt/conda/lib/python3.7/site-packages (from spacy) (3.1.2)\r\n",
      "Requirement already satisfied: smart-open<7.0.0,>=5.2.1 in /opt/conda/lib/python3.7/site-packages (from spacy) (5.2.1)\r\n",
      "Requirement already satisfied: thinc<8.2.0,>=8.1.0 in /opt/conda/lib/python3.7/site-packages (from spacy) (8.1.7)\r\n",
      "Requirement already satisfied: pathy>=0.10.0 in /opt/conda/lib/python3.7/site-packages (from spacy) (0.10.1)\r\n",
      "Requirement already satisfied: spacy-legacy<3.1.0,>=3.0.11 in /opt/conda/lib/python3.7/site-packages (from spacy) (3.0.12)\r\n",
      "Requirement already satisfied: packaging>=20.0 in /opt/conda/lib/python3.7/site-packages (from spacy) (21.3)\r\n",
      "Requirement already satisfied: requests<3.0.0,>=2.13.0 in /opt/conda/lib/python3.7/site-packages (from spacy) (2.28.1)\r\n",
      "Requirement already satisfied: typing-extensions<4.5.0,>=3.7.4.1 in /opt/conda/lib/python3.7/site-packages (from spacy) (4.1.1)\r\n",
      "Requirement already satisfied: spacy-loggers<2.0.0,>=1.0.0 in /opt/conda/lib/python3.7/site-packages (from spacy) (1.0.3)\r\n",
      "Requirement already satisfied: pydantic!=1.8,!=1.8.1,<1.11.0,>=1.7.4 in /opt/conda/lib/python3.7/site-packages (from spacy) (1.8.2)\r\n",
      "Requirement already satisfied: srsly<3.0.0,>=2.4.3 in /opt/conda/lib/python3.7/site-packages (from spacy) (2.4.5)\r\n",
      "Requirement already satisfied: catalogue<2.1.0,>=2.0.6 in /opt/conda/lib/python3.7/site-packages (from spacy) (2.0.8)\r\n",
      "Requirement already satisfied: wasabi<1.2.0,>=0.9.1 in /opt/conda/lib/python3.7/site-packages (from spacy) (0.10.1)\r\n",
      "Requirement already satisfied: langcodes<4.0.0,>=3.2.0 in /opt/conda/lib/python3.7/site-packages (from spacy) (3.3.0)\r\n",
      "Requirement already satisfied: zipp>=0.5 in /opt/conda/lib/python3.7/site-packages (from catalogue<2.1.0,>=2.0.6->spacy) (3.8.0)\r\n",
      "Requirement already satisfied: pyparsing!=3.0.5,>=2.0.2 in /opt/conda/lib/python3.7/site-packages (from packaging>=20.0->spacy) (3.0.9)\r\n",
      "Requirement already satisfied: idna<4,>=2.5 in /opt/conda/lib/python3.7/site-packages (from requests<3.0.0,>=2.13.0->spacy) (3.3)\r\n",
      "Requirement already satisfied: charset-normalizer<3,>=2 in /opt/conda/lib/python3.7/site-packages (from requests<3.0.0,>=2.13.0->spacy) (2.1.0)\r\n",
      "Requirement already satisfied: urllib3<1.27,>=1.21.1 in /opt/conda/lib/python3.7/site-packages (from requests<3.0.0,>=2.13.0->spacy) (1.26.12)\r\n",
      "Requirement already satisfied: certifi>=2017.4.17 in /opt/conda/lib/python3.7/site-packages (from requests<3.0.0,>=2.13.0->spacy) (2022.9.24)\r\n",
      "Requirement already satisfied: confection<1.0.0,>=0.0.1 in /opt/conda/lib/python3.7/site-packages (from thinc<8.2.0,>=8.1.0->spacy) (0.0.3)\r\n",
      "Requirement already satisfied: blis<0.8.0,>=0.7.8 in /opt/conda/lib/python3.7/site-packages (from thinc<8.2.0,>=8.1.0->spacy) (0.7.9)\r\n",
      "Requirement already satisfied: click<9.0.0,>=7.1.1 in /opt/conda/lib/python3.7/site-packages (from typer<0.8.0,>=0.3.0->spacy) (8.0.4)\r\n",
      "Requirement already satisfied: MarkupSafe>=2.0 in /opt/conda/lib/python3.7/site-packages (from jinja2->spacy) (2.1.1)\r\n",
      "Requirement already satisfied: importlib-metadata in /opt/conda/lib/python3.7/site-packages (from click<9.0.0,>=7.1.1->typer<0.8.0,>=0.3.0->spacy) (4.13.0)\r\n",
      "\u001b[33mWARNING: Running pip as the 'root' user can result in broken permissions and conflicting behaviour with the system package manager. It is recommended to use a virtual environment instead: https://pip.pypa.io/warnings/venv\u001b[0m\u001b[33m\r\n",
      "\u001b[0m"
     ]
    }
   ],
   "source": [
    "!pip install spacy_transformers\n",
    "!pip install -U spacy"
   ]
  },
  {
   "cell_type": "code",
   "execution_count": 2,
   "id": "a4278762",
   "metadata": {
    "_cell_guid": "cca3060a-d18d-4f20-b83f-1a1be7061c08",
    "_uuid": "6ad63e08-efe6-4c57-97be-1eb0f3c0b211",
    "collapsed": false,
    "execution": {
     "iopub.execute_input": "2023-02-08T19:46:49.328587Z",
     "iopub.status.busy": "2023-02-08T19:46:49.328177Z",
     "iopub.status.idle": "2023-02-08T19:47:20.466997Z",
     "shell.execute_reply": "2023-02-08T19:47:20.466001Z"
    },
    "id": "liZ44SOAIGOd",
    "jupyter": {
     "outputs_hidden": false
    },
    "papermill": {
     "duration": 31.151567,
     "end_time": "2023-02-08T19:47:20.469411",
     "exception": false,
     "start_time": "2023-02-08T19:46:49.317844",
     "status": "completed"
    },
    "tags": []
   },
   "outputs": [
    {
     "name": "stderr",
     "output_type": "stream",
     "text": [
      "2023-02-08 19:47:02.809864: I tensorflow/stream_executor/cuda/cuda_gpu_executor.cc:937] successful NUMA node read from SysFS had negative value (-1), but there must be at least one NUMA node, so returning NUMA node zero\n",
      "2023-02-08 19:47:02.810744: I tensorflow/stream_executor/cuda/cuda_gpu_executor.cc:937] successful NUMA node read from SysFS had negative value (-1), but there must be at least one NUMA node, so returning NUMA node zero\n",
      "2023-02-08 19:47:02.811726: I tensorflow/stream_executor/cuda/cuda_gpu_executor.cc:937] successful NUMA node read from SysFS had negative value (-1), but there must be at least one NUMA node, so returning NUMA node zero\n",
      "2023-02-08 19:47:02.812431: I tensorflow/stream_executor/cuda/cuda_gpu_executor.cc:937] successful NUMA node read from SysFS had negative value (-1), but there must be at least one NUMA node, so returning NUMA node zero\n",
      "2023-02-08 19:47:02.813111: I tensorflow/stream_executor/cuda/cuda_gpu_executor.cc:937] successful NUMA node read from SysFS had negative value (-1), but there must be at least one NUMA node, so returning NUMA node zero\n",
      "2023-02-08 19:47:02.813791: I tensorflow/stream_executor/cuda/cuda_gpu_executor.cc:937] successful NUMA node read from SysFS had negative value (-1), but there must be at least one NUMA node, so returning NUMA node zero\n"
     ]
    }
   ],
   "source": [
    "import spacy\n",
    "from spacy.tokens import DocBin\n",
    "from tqdm import tqdm  \n",
    "import json"
   ]
  },
  {
   "cell_type": "code",
   "execution_count": 3,
   "id": "46182739",
   "metadata": {
    "_cell_guid": "98d0925f-57fa-469b-a31e-f3501d9a06f0",
    "_uuid": "3c1ec797-0a09-446d-9f01-f9ae68ac0eb7",
    "collapsed": false,
    "execution": {
     "iopub.execute_input": "2023-02-08T19:47:20.489019Z",
     "iopub.status.busy": "2023-02-08T19:47:20.488251Z",
     "iopub.status.idle": "2023-02-08T19:47:20.496413Z",
     "shell.execute_reply": "2023-02-08T19:47:20.495528Z"
    },
    "id": "ZVnT42GpIGOd",
    "jupyter": {
     "outputs_hidden": false
    },
    "outputId": "1cb2a143-a685-490b-ecff-d878b5efe2d0",
    "papermill": {
     "duration": 0.020008,
     "end_time": "2023-02-08T19:47:20.498392",
     "exception": false,
     "start_time": "2023-02-08T19:47:20.478384",
     "status": "completed"
    },
    "scrolled": true,
    "tags": []
   },
   "outputs": [
    {
     "data": {
      "text/plain": [
       "'3.5.0'"
      ]
     },
     "execution_count": 3,
     "metadata": {},
     "output_type": "execute_result"
    }
   ],
   "source": [
    "spacy.__version__"
   ]
  },
  {
   "cell_type": "code",
   "execution_count": 4,
   "id": "e7e3dc21",
   "metadata": {
    "_cell_guid": "f774be3f-38d5-4088-b494-bae963f69421",
    "_uuid": "efcd8c4b-9801-4586-aa89-dae449b630c8",
    "collapsed": false,
    "execution": {
     "iopub.execute_input": "2023-02-08T19:47:20.518751Z",
     "iopub.status.busy": "2023-02-08T19:47:20.517094Z",
     "iopub.status.idle": "2023-02-08T19:47:20.570706Z",
     "shell.execute_reply": "2023-02-08T19:47:20.569772Z"
    },
    "id": "ub5yOsZLIGOd",
    "jupyter": {
     "outputs_hidden": false
    },
    "papermill": {
     "duration": 0.065731,
     "end_time": "2023-02-08T19:47:20.572857",
     "exception": false,
     "start_time": "2023-02-08T19:47:20.507126",
     "status": "completed"
    },
    "tags": []
   },
   "outputs": [],
   "source": [
    "cv_data = json.load(open('/kaggle/input/resumeparsing/data/training/train_data.json'))"
   ]
  },
  {
   "cell_type": "code",
   "execution_count": 5,
   "id": "36762914",
   "metadata": {
    "_cell_guid": "52aeaa30-e850-409d-9a5d-9a9dd7b3f8e5",
    "_uuid": "c7a0d041-739d-4dba-aeba-a1944b27df23",
    "collapsed": false,
    "execution": {
     "iopub.execute_input": "2023-02-08T19:47:20.594073Z",
     "iopub.status.busy": "2023-02-08T19:47:20.593760Z",
     "iopub.status.idle": "2023-02-08T19:47:20.599598Z",
     "shell.execute_reply": "2023-02-08T19:47:20.598696Z"
    },
    "id": "E1ToWUfcIGOd",
    "jupyter": {
     "outputs_hidden": false
    },
    "outputId": "a8585557-d968-4dc7-de46-171705129035",
    "papermill": {
     "duration": 0.018602,
     "end_time": "2023-02-08T19:47:20.601533",
     "exception": false,
     "start_time": "2023-02-08T19:47:20.582931",
     "status": "completed"
    },
    "tags": []
   },
   "outputs": [
    {
     "data": {
      "text/plain": [
       "200"
      ]
     },
     "execution_count": 5,
     "metadata": {},
     "output_type": "execute_result"
    }
   ],
   "source": [
    "len(cv_data)"
   ]
  },
  {
   "cell_type": "code",
   "execution_count": 6,
   "id": "6e69610e",
   "metadata": {
    "_cell_guid": "87f4ce86-72ef-4e69-b907-3b92bab6a625",
    "_uuid": "55b2a6bb-fa77-4406-a795-fd03788aa6e2",
    "collapsed": false,
    "execution": {
     "iopub.execute_input": "2023-02-08T19:47:20.622134Z",
     "iopub.status.busy": "2023-02-08T19:47:20.620636Z",
     "iopub.status.idle": "2023-02-08T19:47:35.485305Z",
     "shell.execute_reply": "2023-02-08T19:47:35.484077Z"
    },
    "id": "VXhdeaZTIGOe",
    "jupyter": {
     "outputs_hidden": false
    },
    "outputId": "223df417-3010-4de6-e8a2-5c1335ba45bd",
    "papermill": {
     "duration": 14.877187,
     "end_time": "2023-02-08T19:47:35.487787",
     "exception": false,
     "start_time": "2023-02-08T19:47:20.610600",
     "status": "completed"
    },
    "tags": []
   },
   "outputs": [
    {
     "name": "stdout",
     "output_type": "stream",
     "text": [
      "2023-02-08 19:47:24.734314: I tensorflow/stream_executor/cuda/cuda_gpu_executor.cc:937] successful NUMA node read from SysFS had negative value (-1), but there must be at least one NUMA node, so returning NUMA node zero\r\n",
      "2023-02-08 19:47:24.735218: I tensorflow/stream_executor/cuda/cuda_gpu_executor.cc:937] successful NUMA node read from SysFS had negative value (-1), but there must be at least one NUMA node, so returning NUMA node zero\r\n",
      "2023-02-08 19:47:24.736219: I tensorflow/stream_executor/cuda/cuda_gpu_executor.cc:937] successful NUMA node read from SysFS had negative value (-1), but there must be at least one NUMA node, so returning NUMA node zero\r\n",
      "2023-02-08 19:47:24.736977: I tensorflow/stream_executor/cuda/cuda_gpu_executor.cc:937] successful NUMA node read from SysFS had negative value (-1), but there must be at least one NUMA node, so returning NUMA node zero\r\n",
      "2023-02-08 19:47:24.737751: I tensorflow/stream_executor/cuda/cuda_gpu_executor.cc:937] successful NUMA node read from SysFS had negative value (-1), but there must be at least one NUMA node, so returning NUMA node zero\r\n",
      "2023-02-08 19:47:24.738462: I tensorflow/stream_executor/cuda/cuda_gpu_executor.cc:937] successful NUMA node read from SysFS had negative value (-1), but there must be at least one NUMA node, so returning NUMA node zero\r\n",
      "\u001b[38;5;2m✔ Auto-filled config with all values\u001b[0m\r\n",
      "\u001b[38;5;2m✔ Saved config\u001b[0m\r\n",
      "config.cfg\r\n",
      "You can now add your data and train your pipeline:\r\n",
      "python -m spacy train config.cfg --paths.train ./train.spacy --paths.dev ./dev.spacy\r\n"
     ]
    }
   ],
   "source": [
    "!python -m spacy init fill-config /kaggle/input/resumeparsing/data/training/base_config.cfg config.cfg"
   ]
  },
  {
   "cell_type": "code",
   "execution_count": 7,
   "id": "9a5e9541",
   "metadata": {
    "_cell_guid": "5a71d80e-b17d-4fbf-ad0a-60754b543eb2",
    "_uuid": "41e5aa5f-a22d-449b-bb7f-46f5282bf713",
    "collapsed": false,
    "execution": {
     "iopub.execute_input": "2023-02-08T19:47:35.508816Z",
     "iopub.status.busy": "2023-02-08T19:47:35.507833Z",
     "iopub.status.idle": "2023-02-08T19:47:35.517187Z",
     "shell.execute_reply": "2023-02-08T19:47:35.516155Z"
    },
    "id": "wWS6B5QeIGOe",
    "jupyter": {
     "outputs_hidden": false
    },
    "outputId": "f7078d85-1956-4684-855e-62400f8bedc4",
    "papermill": {
     "duration": 0.022028,
     "end_time": "2023-02-08T19:47:35.519267",
     "exception": false,
     "start_time": "2023-02-08T19:47:35.497239",
     "status": "completed"
    },
    "tags": []
   },
   "outputs": [
    {
     "data": {
      "text/plain": [
       "[\"Harini Komaravelli Test Analyst at Oracle, Hyderabad  Hyderabad, Telangana - Email me on Indeed: indeed.com/r/Harini- Komaravelli/2659eee82e435d1b  ➢ 6 Yrs. of IT Experience in Manual and Automation testing.  WORK EXPERIENCE  QA Analyst  Oracle  Test Analyst at Oracle, Hyderabad  Infosys Ltd -  Hyderabad, Telangana -  November 2011 to February 2016  Hyderabad from Nov 2011 to Feb17 2016 ➢ Worked in Tata Consultancy Services, Hyderabad from Feb 24 to Apr 11 2017 ➢ Currently working as a Test Analyst at Oracle, Hyderabad  QA Analyst with 6 years of IT experience  Oracle  EDUCATION  MCA  Osmania University  B.Sc. in Computer Science  Osmania University  SKILLS  Functional Testing, Blue Prism, Qtp  ADDITIONAL INFORMATION  Area of Expertise:  ➢ Familiar with Agile Methodologies. ➢ Having knowledge in Energy (Petroleum) & Health Care domains. ➢ Involved in preparation of Test Scenarios. ➢ Preparing Test Data for the test cases.  https://www.indeed.com/r/Harini-Komaravelli/2659eee82e435d1b?isid=rex-download&ikw=download-top&co=IN https://www.indeed.com/r/Harini-Komaravelli/2659eee82e435d1b?isid=rex-download&ikw=download-top&co=IN   ➢ Experienced in development and execution of Test cases effectively. ➢ Experienced in Functional testing, GUI testing, Smoke testing, Regression testing and Integration Testing ➢ Experienced in doing Accessibility testing of an application ➢ Ability to understand user Requirements, Functional and Design specifications. ➢ Good knowledge of SDLC and STLC processes. ➢ Deciding the Severity and Priority of bugs. ➢ Experience in using Microsoft Test Manager & Oracle Test Manager as Test Management Tools. ➢ Having good experience in testing windows based & web based applications. ➢ Involved in Client Interactions for reviews, issues and for any clarifications. ➢ Web Services Testing ➢ Writing Test Scripts in QTP, Testcomplete. ➢ Creating Object Repositories and Function Libraries in QTP. ➢ Enhanced QTP scripts using VB Script. ➢ Strong experience in working with Blue Prism tool ➢ Worked on different Environments like Windows Application & Web Application  Technical Skills:  ❑ Test Automation Tools: Blue Prism, QTP 10.0, Testcomplete ❑ Test Management Tool: Microsoft Test Manager, Oracle Test Manager & JIRA ❑ Databases: Oracle 10g, SQL Server.  ❑ Operating Systems: Windows 7  Project 1: Title: Cadence Client: Baker Hughes  Technologies: Microsoft Visual Studio and Microsoft Team Foundation Server  Client Background: An oilfield services company delivering focused efforts on shale gas and other oilfield services. It provides services, tools and software for drilling and formation evaluation, well completion, production management, seismic data collection and interpretation.  Project Description: AUT (Application under test) is the next generation revolutionary, robust, easy to use scalable well site data acquisition processing and interpretation system for Client's Drilling Services to deliver services that meets cross divisional business requirements consistently.  Project 2:  Description: Paragon supports your entire care team with one tool that your clinicians need to help deliver the best patient care. Designed by physicians, nurses, pharmacists and mid level providers that have a first-hand understanding of clinical workflow needs, Paragon clinical applications allow your caregivers to focus on what matters most; spending time caring for patients. Since Paragon is fully-integrated across all applications and built around a single patient database, information    entered anywhere in the system is immediately available to the entire care team. Immediate access not only helps clinicians make better treatment decisions - it also helps promote patient safety. Paragon offers a broad suite of multidisciplinary clinical software solutions together with anytime, anywhere access to the complete patient record.  Responsibilities:  • Performed Smoke testing and Regression testing. • Involved in Generating and Executing Test Script using Quick Test Pro & Blue Prism • Usability and User Interface Testing. • Involved in Defect tracking and reporting the bugs using TFS • Participated in frequent walk-through meetings with Internal Quality Assurance groups and with development groups. • Participated in client calls and clarifying the doubts by having AT&T sessions • Involved in functional, regression and smoke testing to validate the application data changes done in windows application • Certifying the build status by running the scripts as part of smoke testing  Project 3:  Description: Food & Beverages R&A: Easily manage business across multiple locations while reducing IT cost and complexity. Cloud-based point-of-sale (POS) solutions enable centralized enterprise management with lower upfront costs and a smaller footprint.  Responsibilities:  • Performed Functional testing and Regression testing. • Involved in Generating and Executing Test Scripts using Blue Prism tool and Open script • Involved in preparing bots using Blue Prism tool. • Accessibility testing of the web application • Involved in Defect tracking and reporting the bugs using JIRA • WebServices testing by calling API's to export the data\",\n",
       " {'entities': [[2275, 2281, 'Companies worked at'],\n",
       "   [2235, 2241, 'Companies worked at'],\n",
       "   [1603, 1609, 'Companies worked at'],\n",
       "   [667, 702, 'Skills'],\n",
       "   [639, 657, 'College Name'],\n",
       "   [612, 637, 'Degree'],\n",
       "   [592, 610, 'College Name'],\n",
       "   [587, 590, 'Degree'],\n",
       "   [568, 574, 'Companies worked at'],\n",
       "   [526, 536, 'Designation'],\n",
       "   [515, 524, 'Location'],\n",
       "   [507, 513, 'Companies worked at'],\n",
       "   [491, 503, 'Designation'],\n",
       "   [429, 438, 'Location'],\n",
       "   [352, 361, 'Location'],\n",
       "   [296, 305, 'Location'],\n",
       "   [270, 279, 'Location'],\n",
       "   [262, 268, 'Companies worked at'],\n",
       "   [246, 258, 'Designation'],\n",
       "   [238, 244, 'Companies worked at'],\n",
       "   [226, 236, 'Designation'],\n",
       "   [177, 207, 'Designation'],\n",
       "   [150, 155, 'Years of Experience'],\n",
       "   [54, 63, 'Location'],\n",
       "   [43, 52, 'Location'],\n",
       "   [35, 41, 'Companies worked at'],\n",
       "   [19, 31, 'Designation'],\n",
       "   [0, 18, 'Name']]}]"
      ]
     },
     "execution_count": 7,
     "metadata": {},
     "output_type": "execute_result"
    }
   ],
   "source": [
    "cv_data[1]"
   ]
  },
  {
   "cell_type": "code",
   "execution_count": 8,
   "id": "5bb0a0e1",
   "metadata": {
    "_cell_guid": "14ca0eaa-ae9b-4f79-b31c-5e4964b0391c",
    "_uuid": "f3f33be0-5d1b-4b52-9445-51f641a616f2",
    "collapsed": false,
    "execution": {
     "iopub.execute_input": "2023-02-08T19:47:35.539811Z",
     "iopub.status.busy": "2023-02-08T19:47:35.538858Z",
     "iopub.status.idle": "2023-02-08T19:47:35.547929Z",
     "shell.execute_reply": "2023-02-08T19:47:35.547017Z"
    },
    "id": "9dhqfVWZIGOe",
    "jupyter": {
     "outputs_hidden": false
    },
    "papermill": {
     "duration": 0.021333,
     "end_time": "2023-02-08T19:47:35.549921",
     "exception": false,
     "start_time": "2023-02-08T19:47:35.528588",
     "status": "completed"
    },
    "tags": []
   },
   "outputs": [],
   "source": [
    "def get_spacy_doc(file, data):\n",
    "    nlp = spacy.blank('en')\n",
    "    db = DocBin()\n",
    "        \n",
    "    for text, annot in tqdm(data):\n",
    "        doc = nlp.make_doc(text)\n",
    "        annot = annot['entities']\n",
    "    \n",
    "        ents = []\n",
    "        entity_indices = []\n",
    "            \n",
    "        for start, end, label in annot:\n",
    "            skip_entity = False\n",
    "            for idx in range(start, end):\n",
    "                if idx in entity_indices:\n",
    "                    skip_entity = True\n",
    "                    break\n",
    "            if skip_entity == True:\n",
    "                continue \n",
    "                    \n",
    "            entity_indices = entity_indices + list(range(start, end))  \n",
    "                \n",
    "            try:\n",
    "                span = doc.char_span(start, end,label=label,alignment_mode = 'strict')\n",
    "            except:\n",
    "                continue\n",
    "\n",
    "            if span is None:\n",
    "                err_data = str([start, end]) + \" \" + str(text) + \"\\n \"\n",
    "                file.write(err_data)\n",
    "            else:\n",
    "                ents.append(span)\n",
    "\n",
    "        try:\n",
    "            doc.ents = ents\n",
    "            db.add(doc)\n",
    "        except:\n",
    "            pass \n",
    "    return db"
   ]
  },
  {
   "cell_type": "code",
   "execution_count": 9,
   "id": "d4bbe950",
   "metadata": {
    "_cell_guid": "be5af31c-c03f-4eff-b9a6-865c9f1c9c87",
    "_uuid": "6685e421-71e2-45f4-baa6-7031057a003a",
    "collapsed": false,
    "execution": {
     "iopub.execute_input": "2023-02-08T19:47:35.570385Z",
     "iopub.status.busy": "2023-02-08T19:47:35.569294Z",
     "iopub.status.idle": "2023-02-08T19:47:35.702460Z",
     "shell.execute_reply": "2023-02-08T19:47:35.701346Z"
    },
    "id": "BzftUQk8IGOf",
    "jupyter": {
     "outputs_hidden": false
    },
    "papermill": {
     "duration": 0.145788,
     "end_time": "2023-02-08T19:47:35.704953",
     "exception": false,
     "start_time": "2023-02-08T19:47:35.559165",
     "status": "completed"
    },
    "tags": []
   },
   "outputs": [],
   "source": [
    "from sklearn.model_selection import train_test_split\n",
    "train, test = train_test_split(cv_data, test_size=0.3)"
   ]
  },
  {
   "cell_type": "code",
   "execution_count": 10,
   "id": "26d09064",
   "metadata": {
    "_cell_guid": "55a9e733-890c-44cc-bb1c-d03a8babe6fd",
    "_uuid": "49102d36-14c9-4cd2-813a-057b409b0634",
    "collapsed": false,
    "execution": {
     "iopub.execute_input": "2023-02-08T19:47:35.725707Z",
     "iopub.status.busy": "2023-02-08T19:47:35.724776Z",
     "iopub.status.idle": "2023-02-08T19:47:35.731387Z",
     "shell.execute_reply": "2023-02-08T19:47:35.730380Z"
    },
    "id": "xtRrhQ6uIGOf",
    "jupyter": {
     "outputs_hidden": false
    },
    "outputId": "011de0c4-0adb-411a-96a4-193066598c62",
    "papermill": {
     "duration": 0.018881,
     "end_time": "2023-02-08T19:47:35.733320",
     "exception": false,
     "start_time": "2023-02-08T19:47:35.714439",
     "status": "completed"
    },
    "tags": []
   },
   "outputs": [
    {
     "data": {
      "text/plain": [
       "(140, 60)"
      ]
     },
     "execution_count": 10,
     "metadata": {},
     "output_type": "execute_result"
    }
   ],
   "source": [
    " len(train),len(test)"
   ]
  },
  {
   "cell_type": "code",
   "execution_count": 11,
   "id": "de76fcbe",
   "metadata": {
    "_cell_guid": "78830a17-fbdf-4352-ad66-7fe2cbe2531c",
    "_uuid": "7ee22766-43d2-41d4-83d2-ab62a9b254a5",
    "collapsed": false,
    "execution": {
     "iopub.execute_input": "2023-02-08T19:47:35.753553Z",
     "iopub.status.busy": "2023-02-08T19:47:35.752657Z",
     "iopub.status.idle": "2023-02-08T19:47:38.601314Z",
     "shell.execute_reply": "2023-02-08T19:47:38.600270Z"
    },
    "id": "CiXp0lRJIGOf",
    "jupyter": {
     "outputs_hidden": false
    },
    "outputId": "bcc8b3dc-80fe-46b5-e464-9a3e561e819c",
    "papermill": {
     "duration": 2.861157,
     "end_time": "2023-02-08T19:47:38.603754",
     "exception": false,
     "start_time": "2023-02-08T19:47:35.742597",
     "status": "completed"
    },
    "tags": []
   },
   "outputs": [
    {
     "name": "stderr",
     "output_type": "stream",
     "text": [
      "100%|██████████| 140/140 [00:01<00:00, 101.34it/s]\n",
      "100%|██████████| 60/60 [00:00<00:00, 77.07it/s]\n"
     ]
    }
   ],
   "source": [
    "file = open('error.txt','w')\n",
    "\n",
    "db = get_spacy_doc(file, train)\n",
    "db.to_disk('train_data.spacy')\n",
    "\n",
    "db = get_spacy_doc(file, test)\n",
    "db.to_disk('test_data.spacy')\n",
    "\n",
    "file.close()"
   ]
  },
  {
   "cell_type": "code",
   "execution_count": 12,
   "id": "047827a8",
   "metadata": {
    "_cell_guid": "5930abe6-d4fd-4cb6-8474-7dca522e7a51",
    "_uuid": "ddf5a391-37bf-4788-8cb1-88c93fd29267",
    "collapsed": false,
    "execution": {
     "iopub.execute_input": "2023-02-08T19:47:38.626406Z",
     "iopub.status.busy": "2023-02-08T19:47:38.626077Z",
     "iopub.status.idle": "2023-02-08T19:47:38.632921Z",
     "shell.execute_reply": "2023-02-08T19:47:38.631835Z"
    },
    "id": "W6F9iAq6q9Td",
    "jupyter": {
     "outputs_hidden": false
    },
    "outputId": "59fea2f6-baaf-4c97-c51f-fd349bc8b311",
    "papermill": {
     "duration": 0.021001,
     "end_time": "2023-02-08T19:47:38.635415",
     "exception": false,
     "start_time": "2023-02-08T19:47:38.614414",
     "status": "completed"
    },
    "tags": []
   },
   "outputs": [
    {
     "data": {
      "text/plain": [
       "60"
      ]
     },
     "execution_count": 12,
     "metadata": {},
     "output_type": "execute_result"
    }
   ],
   "source": [
    "len(db.tokens)"
   ]
  },
  {
   "cell_type": "code",
   "execution_count": 13,
   "id": "8681315f",
   "metadata": {
    "_cell_guid": "ef0bc069-a4dc-4318-89ef-46426f0af129",
    "_uuid": "be2be04d-55f2-451d-8114-c369ab45d452",
    "collapsed": false,
    "execution": {
     "iopub.execute_input": "2023-02-08T19:47:38.658476Z",
     "iopub.status.busy": "2023-02-08T19:47:38.657266Z",
     "iopub.status.idle": "2023-02-08T21:38:26.558172Z",
     "shell.execute_reply": "2023-02-08T21:38:26.556894Z"
    },
    "id": "l6f7VwRAIGOf",
    "jupyter": {
     "outputs_hidden": false
    },
    "outputId": "0af96251-a9d5-4297-ca5f-429fb6c08ad6",
    "papermill": {
     "duration": 6647.914812,
     "end_time": "2023-02-08T21:38:26.560654",
     "exception": false,
     "start_time": "2023-02-08T19:47:38.645842",
     "status": "completed"
    },
    "tags": []
   },
   "outputs": [
    {
     "name": "stdout",
     "output_type": "stream",
     "text": [
      "2023-02-08 19:47:42.585522: I tensorflow/stream_executor/cuda/cuda_gpu_executor.cc:937] successful NUMA node read from SysFS had negative value (-1), but there must be at least one NUMA node, so returning NUMA node zero\r\n",
      "2023-02-08 19:47:42.586405: I tensorflow/stream_executor/cuda/cuda_gpu_executor.cc:937] successful NUMA node read from SysFS had negative value (-1), but there must be at least one NUMA node, so returning NUMA node zero\r\n",
      "2023-02-08 19:47:42.587390: I tensorflow/stream_executor/cuda/cuda_gpu_executor.cc:937] successful NUMA node read from SysFS had negative value (-1), but there must be at least one NUMA node, so returning NUMA node zero\r\n",
      "2023-02-08 19:47:42.588172: I tensorflow/stream_executor/cuda/cuda_gpu_executor.cc:937] successful NUMA node read from SysFS had negative value (-1), but there must be at least one NUMA node, so returning NUMA node zero\r\n",
      "2023-02-08 19:47:42.588963: I tensorflow/stream_executor/cuda/cuda_gpu_executor.cc:937] successful NUMA node read from SysFS had negative value (-1), but there must be at least one NUMA node, so returning NUMA node zero\r\n",
      "2023-02-08 19:47:42.589810: I tensorflow/stream_executor/cuda/cuda_gpu_executor.cc:937] successful NUMA node read from SysFS had negative value (-1), but there must be at least one NUMA node, so returning NUMA node zero\r\n",
      "\u001b[38;5;2m✔ Created output directory: output\u001b[0m\r\n",
      "\u001b[38;5;4mℹ Saving to output directory: output\u001b[0m\r\n",
      "\u001b[38;5;4mℹ Using GPU: 0\u001b[0m\r\n",
      "\u001b[1m\r\n",
      "=========================== Initializing pipeline ===========================\u001b[0m\r\n",
      "[2023-02-08 19:47:50,259] [INFO] Set up nlp object from config\r\n",
      "[2023-02-08 19:47:50,272] [INFO] Pipeline: ['transformer', 'ner']\r\n",
      "[2023-02-08 19:47:50,276] [INFO] Created vocabulary\r\n",
      "[2023-02-08 19:47:50,279] [INFO] Finished initializing nlp object\r\n",
      "Downloading: 100%|██████████████████████████████| 481/481 [00:00<00:00, 450kB/s]\r\n",
      "Downloading: 100%|███████████████████████████| 878k/878k [00:00<00:00, 5.51MB/s]\r\n",
      "Downloading: 100%|███████████████████████████| 446k/446k [00:00<00:00, 3.05MB/s]\r\n",
      "Downloading: 100%|█████████████████████████| 1.29M/1.29M [00:00<00:00, 7.35MB/s]\r\n",
      "Downloading: 100%|███████████████████████████| 478M/478M [00:20<00:00, 24.9MB/s]\r\n",
      "Some weights of the model checkpoint at roberta-base were not used when initializing RobertaModel: ['lm_head.layer_norm.weight', 'lm_head.decoder.weight', 'lm_head.bias', 'lm_head.layer_norm.bias', 'lm_head.dense.weight', 'lm_head.dense.bias']\r\n",
      "- This IS expected if you are initializing RobertaModel from the checkpoint of a model trained on another task or with another architecture (e.g. initializing a BertForSequenceClassification model from a BertForPreTraining model).\r\n",
      "- This IS NOT expected if you are initializing RobertaModel from the checkpoint of a model that you expect to be exactly identical (initializing a BertForSequenceClassification model from a BertForSequenceClassification model).\r\n",
      "[2023-02-08 19:48:28,541] [INFO] Initialized pipeline components: ['transformer', 'ner']\r\n",
      "\u001b[38;5;2m✔ Initialized pipeline\u001b[0m\r\n",
      "\u001b[1m\r\n",
      "============================= Training pipeline =============================\u001b[0m\r\n",
      "\u001b[38;5;4mℹ Pipeline: ['transformer', 'ner']\u001b[0m\r\n",
      "\u001b[38;5;4mℹ Initial learn rate: 0.0\u001b[0m\r\n",
      "E    #       LOSS TRANS...  LOSS NER  ENTS_F  ENTS_P  ENTS_R  SCORE \r\n",
      "---  ------  -------------  --------  ------  ------  ------  ------\r\n",
      "  0       0        5367.85   1213.60    0.00    0.00    0.00    0.00\r\n",
      "  4     200      346817.66  88627.50   21.52   20.90   22.18    0.22\r\n",
      "  8     400       52146.48  35504.93   54.44   51.81   57.34    0.54\r\n",
      " 13     600       34491.19  32291.03   54.70   54.70   54.70    0.55\r\n",
      " 17     800       24932.46  27802.72   52.46   67.84   42.77    0.52\r\n",
      " 21    1000       27209.10  27800.50   58.10   55.35   61.14    0.58\r\n",
      " 26    1200        7046.43  26716.34   58.40   61.97   55.23    0.58\r\n",
      " 30    1400        3746.37  24210.17   54.81   64.75   47.52    0.55\r\n",
      " 34    1600        1766.00  24442.89   55.39   51.31   60.19    0.55\r\n",
      " 39    1800       10843.86  25153.90   56.77   54.76   58.92    0.57\r\n",
      " 43    2000        7788.55  23023.23   52.72   65.93   43.93    0.53\r\n",
      " 47    2200        1202.75  23428.07   59.43   60.50   58.39    0.59\r\n",
      " 52    2400        1458.12  23312.35   57.11   53.67   61.03    0.57\r\n",
      " 56    2600         899.76  21889.16   57.29   61.05   53.96    0.57\r\n",
      " 60    2800         413.33  22221.95   59.46   64.10   55.44    0.59\r\n",
      " 65    3000         268.51  21536.71   55.05   51.42   59.24    0.55\r\n",
      " 69    3200         573.42  20390.91   58.13   58.50   57.76    0.58\r\n",
      " 73    3400         712.17  20652.97   59.03   61.68   56.60    0.59\r\n",
      " 78    3600         398.52  19268.28   55.29   53.85   56.81    0.55\r\n",
      " 82    3800        3983.47  18373.77   58.96   60.67   57.34    0.59\r\n",
      " 86    4000         244.40  18228.82   59.49   67.11   53.43    0.59\r\n",
      " 91    4200         114.60  15891.87   59.27   56.96   61.77    0.59\r\n",
      " 95    4400         245.05  14778.70   57.56   56.85   58.29    0.58\r\n",
      "100    4600         171.51  13967.53   59.37   60.37   58.39    0.59\r\n",
      "104    4800         207.43  11003.71   58.58   60.96   56.39    0.59\r\n",
      "108    5000         155.65   9330.92   59.35   57.67   61.14    0.59\r\n",
      "113    5200         351.58   7587.63   59.85   60.69   59.03    0.60\r\n",
      "117    5400         169.06   5066.28   55.88   57.71   54.17    0.56\r\n",
      "121    5600         222.22   3579.99   60.59   62.71   58.61    0.61\r\n",
      "126    5800        1800.02   2372.39   58.88   60.04   57.76    0.59\r\n",
      "130    6000         535.46   1408.46   57.80   60.00   55.76    0.58\r\n",
      "134    6200         485.42    815.73   58.94   61.11   56.92    0.59\r\n",
      "139    6400         199.28    478.59   57.42   54.98   60.08    0.57\r\n",
      "143    6600         742.64    282.39   55.65   59.50   52.27    0.56\r\n",
      "147    6800         300.96    180.09   59.36   61.40   57.44    0.59\r\n",
      "152    7000       27301.64    260.19   56.75   65.34   50.16    0.57\r\n",
      "156    7200         232.49    112.67   58.54   59.80   57.34    0.59\r\n",
      "\u001b[38;5;2m✔ Saved pipeline to output directory\u001b[0m\r\n",
      "output/model-last\r\n"
     ]
    }
   ],
   "source": [
    "!python -m spacy train /kaggle/working/config.cfg --output ./output --paths.train ./train_data.spacy --paths.dev ./test_data.spacy --gpu-id 0"
   ]
  },
  {
   "cell_type": "code",
   "execution_count": 14,
   "id": "6c820165",
   "metadata": {
    "_cell_guid": "b58a01f9-3d6d-4e05-8d9b-ba6f9778129e",
    "_uuid": "e776097b-e9d6-4e41-aaed-92d8cc8ccb31",
    "collapsed": false,
    "execution": {
     "iopub.execute_input": "2023-02-08T21:38:26.611344Z",
     "iopub.status.busy": "2023-02-08T21:38:26.608807Z",
     "iopub.status.idle": "2023-02-08T21:38:34.734440Z",
     "shell.execute_reply": "2023-02-08T21:38:34.733200Z"
    },
    "id": "0DPeAA_3IGOg",
    "jupyter": {
     "outputs_hidden": false
    },
    "papermill": {
     "duration": 8.153002,
     "end_time": "2023-02-08T21:38:34.737202",
     "exception": false,
     "start_time": "2023-02-08T21:38:26.584200",
     "status": "completed"
    },
    "tags": []
   },
   "outputs": [],
   "source": [
    "nlp = spacy.load('/kaggle/working/output/model-best')"
   ]
  },
  {
   "cell_type": "code",
   "execution_count": 15,
   "id": "2571d49a",
   "metadata": {
    "_cell_guid": "acf438e2-9622-4a1f-89fb-831a3876e131",
    "_uuid": "7b7d066f-ea01-476f-bd74-929d94920897",
    "collapsed": false,
    "execution": {
     "iopub.execute_input": "2023-02-08T21:38:34.786127Z",
     "iopub.status.busy": "2023-02-08T21:38:34.785309Z",
     "iopub.status.idle": "2023-02-08T21:38:34.790404Z",
     "shell.execute_reply": "2023-02-08T21:38:34.789470Z"
    },
    "jupyter": {
     "outputs_hidden": false
    },
    "papermill": {
     "duration": 0.031667,
     "end_time": "2023-02-08T21:38:34.792346",
     "exception": false,
     "start_time": "2023-02-08T21:38:34.760679",
     "status": "completed"
    },
    "tags": []
   },
   "outputs": [],
   "source": [
    "txt = 'My name is Kashmira Sankhe. I work as a dentist. I completed my degree in Bachelors of Dental Surgery from Government dental College Mumbai. SKILLs : Dental Works'"
   ]
  },
  {
   "cell_type": "code",
   "execution_count": 16,
   "id": "f29e5608",
   "metadata": {
    "_cell_guid": "e102911a-22bf-4221-8b84-f60f63038019",
    "_uuid": "193d0ae5-1d79-4fa4-9845-f1352614f986",
    "collapsed": false,
    "execution": {
     "iopub.execute_input": "2023-02-08T21:38:34.838996Z",
     "iopub.status.busy": "2023-02-08T21:38:34.838706Z",
     "iopub.status.idle": "2023-02-08T21:38:35.375523Z",
     "shell.execute_reply": "2023-02-08T21:38:35.374201Z"
    },
    "id": "IQmf7cmCSijQ",
    "jupyter": {
     "outputs_hidden": false
    },
    "outputId": "874364cd-9b3f-4388-f73b-6c389e777195",
    "papermill": {
     "duration": 0.563298,
     "end_time": "2023-02-08T21:38:35.378376",
     "exception": false,
     "start_time": "2023-02-08T21:38:34.815078",
     "status": "completed"
    },
    "tags": []
   },
   "outputs": [
    {
     "name": "stdout",
     "output_type": "stream",
     "text": [
      "DEGREE   =>   Bachelors of Dental Surgery\n",
      "COLLEGE NAME   =>   Government dental College Mumbai\n"
     ]
    }
   ],
   "source": [
    "doc = nlp(txt)\n",
    "for ent in doc.ents:\n",
    "    print(ent.label_.upper(),\"  =>  \", ent.text)"
   ]
  },
  {
   "cell_type": "code",
   "execution_count": 17,
   "id": "ef46f3c0",
   "metadata": {
    "_cell_guid": "28bf82a6-c2c6-42be-88c8-167f884aab03",
    "_uuid": "11d2a148-5252-4081-ba22-94b67341f366",
    "collapsed": false,
    "execution": {
     "iopub.execute_input": "2023-02-08T21:38:35.428077Z",
     "iopub.status.busy": "2023-02-08T21:38:35.427222Z",
     "iopub.status.idle": "2023-02-08T21:38:39.703569Z",
     "shell.execute_reply": "2023-02-08T21:38:39.702578Z"
    },
    "id": "nUN2wOV5TG4z",
    "jupyter": {
     "outputs_hidden": false
    },
    "outputId": "21f8f6c7-6cf1-47f8-a5de-3778bbd464bb",
    "papermill": {
     "duration": 4.302952,
     "end_time": "2023-02-08T21:38:39.705959",
     "exception": false,
     "start_time": "2023-02-08T21:38:35.403007",
     "status": "completed"
    },
    "tags": []
   },
   "outputs": [],
   "source": [
    "NLP = spacy.load('/kaggle/working/output/model-last')"
   ]
  },
  {
   "cell_type": "code",
   "execution_count": 18,
   "id": "3f70800d",
   "metadata": {
    "_cell_guid": "9de5f5d3-974c-413a-8c0f-db1eccecbab0",
    "_uuid": "78824431-0383-458b-ada5-026dd727878d",
    "collapsed": false,
    "execution": {
     "iopub.execute_input": "2023-02-08T21:38:39.755531Z",
     "iopub.status.busy": "2023-02-08T21:38:39.755165Z",
     "iopub.status.idle": "2023-02-08T21:38:39.762044Z",
     "shell.execute_reply": "2023-02-08T21:38:39.760953Z"
    },
    "id": "i8fgcdL3UQ-x",
    "jupyter": {
     "outputs_hidden": false
    },
    "papermill": {
     "duration": 0.034245,
     "end_time": "2023-02-08T21:38:39.764097",
     "exception": false,
     "start_time": "2023-02-08T21:38:39.729852",
     "status": "completed"
    },
    "tags": []
   },
   "outputs": [],
   "source": [
    "TXT = \"Harini Komaravelli Test Analyst at Oracle, Hyderabad  Hyderabad, Telangana - Email me on Indeed: indeed.com/r/Harini- Komaravelli/2659eee82e435d1b  ➢ 6 Yrs. of IT Experience in Manual and Automation testing.  WORK EXPERIENCE  QA Analyst  Oracle  Test Analyst at Oracle, Hyderabad  Infosys Ltd -  Hyderabad, Telangana -  November 2011 to February 2016  Hyderabad from Nov 2011 to Feb17 2016 ➢ Worked in Tata Consultancy Services, Hyderabad from Feb 24 to Apr 11 2017 ➢ Currently working as a Test Analyst at Oracle, Hyderabad  QA Analyst with 6 years of IT experience  Oracle  EDUCATION  MCA  Osmania University  B.Sc. in Computer Science  Osmania University  SKILLS  Functional Testing, Blue Prism, Qtp  ADDITIONAL INFORMATION  Area of Expertise:  ➢ Familiar with Agile Methodologies. ➢ Having knowledge in Energy (Petroleum) & Health Care domains. ➢ Involved in preparation of Test Scenarios. ➢ Preparing Test Data for the test cases.  https://www.indeed.com/r/Harini-Komaravelli/2659eee82e435d1b?isid=rex-download&ikw=download-top&co=IN https://www.indeed.com/r/Harini-Komaravelli/2659eee82e435d1b?isid=rex-download&ikw=download-top&co=IN   ➢ Experienced in development and execution of Test cases effectively. ➢ Experienced in Functional testing, GUI testing, Smoke testing, Regression testing and Integration Testing ➢ Experienced in doing Accessibility testing of an application ➢ Ability to understand user Requirements, Functional and Design specifications. ➢ Good knowledge of SDLC and STLC processes. ➢ Deciding the Severity and Priority of bugs. ➢ Experience in using Microsoft Test Manager & Oracle Test Manager as Test Management Tools. ➢ Having good experience in testing windows based & web based applications. ➢ Involved in Client Interactions for reviews, issues and for any clarifications. ➢ Web Services Testing ➢ Writing Test Scripts in QTP, Testcomplete. ➢ Creating Object Repositories and Function Libraries in QTP. ➢ Enhanced QTP scripts using VB Script. ➢ Strong experience in working with Blue Prism tool ➢ Worked on different Environments like Windows Application & Web Application  Technical Skills:  ❑ Test Automation Tools: Blue Prism, QTP 10.0, Testcomplete ❑ Test Management Tool: Microsoft Test Manager, Oracle Test Manager & JIRA ❑ Databases: Oracle 10g, SQL Server.  ❑ Operating Systems: Windows 7  Project 1: Title: Cadence Client: Baker Hughes  Technologies: Microsoft Visual Studio and Microsoft Team Foundation Server  Client Background: An oilfield services company delivering focused efforts on shale gas and other oilfield services. It provides services, tools and software for drilling and formation evaluation, well completion, production management, seismic data collection and interpretation.  Project Description: AUT (Application under test) is the next generation revolutionary, robust, easy to use scalable well site data acquisition processing and interpretation system for Client's Drilling Services to deliver services that meets cross divisional business requirements consistently.  Project 2:  Description: Paragon supports your entire care team with one tool that your clinicians need to help deliver the best patient care. Designed by physicians, nurses, pharmacists and mid level providers that have a first-hand understanding of clinical workflow needs, Paragon clinical applications allow your caregivers to focus on what matters most; spending time caring for patients. Since Paragon is fully-integrated across all applications and built around a single patient database, information    entered anywhere in the system is immediately available to the entire care team. Immediate access not only helps clinicians make better treatment decisions - it also helps promote patient safety. Paragon offers a broad suite of multidisciplinary clinical software solutions together with anytime, anywhere access to the complete patient record.  Responsibilities:  • Performed Smoke testing and Regression testing. • Involved in Generating and Executing Test Script using Quick Test Pro & Blue Prism • Usability and User Interface Testing. • Involved in Defect tracking and reporting the bugs using TFS • Participated in frequent walk-through meetings with Internal Quality Assurance groups and with development groups. • Participated in client calls and clarifying the doubts by having AT&T sessions • Involved in functional, regression and smoke testing to validate the application data changes done in windows application • Certifying the build status by running the scripts as part of smoke testing  Project 3:  Description: Food & Beverages R&A: Easily manage business across multiple locations while reducing IT cost and complexity. Cloud-based point-of-sale (POS) solutions enable centralized enterprise management with lower upfront costs and a smaller footprint.  Responsibilities:  • Performed Functional testing and Regression testing. • Involved in Generating and Executing Test Scripts using Blue Prism tool and Open script • Involved in preparing bots using Blue Prism tool. • Accessibility testing of the web application • Involved in Defect tracking and reporting the bugs using JIRA • WebServices testing by calling API's to export the data\""
   ]
  },
  {
   "cell_type": "code",
   "execution_count": 19,
   "id": "cade45eb",
   "metadata": {
    "_cell_guid": "c19f11d7-096b-459d-bbdd-b221fc713674",
    "_uuid": "270a70d8-6f1a-4dc7-bbfc-bf05a9b0ed82",
    "collapsed": false,
    "execution": {
     "iopub.execute_input": "2023-02-08T21:38:39.812445Z",
     "iopub.status.busy": "2023-02-08T21:38:39.812153Z",
     "iopub.status.idle": "2023-02-08T21:38:44.002817Z",
     "shell.execute_reply": "2023-02-08T21:38:44.001416Z"
    },
    "jupyter": {
     "outputs_hidden": false
    },
    "papermill": {
     "duration": 4.217371,
     "end_time": "2023-02-08T21:38:44.005509",
     "exception": false,
     "start_time": "2023-02-08T21:38:39.788138",
     "status": "completed"
    },
    "tags": []
   },
   "outputs": [
    {
     "name": "stdout",
     "output_type": "stream",
     "text": [
      "NAME   =>   Harini Komaravelli\n",
      "DESIGNATION   =>   Test Analyst\n",
      "COMPANIES WORKED AT   =>   Oracle\n",
      "LOCATION   =>   Hyderabad\n",
      "LOCATION   =>   Hyderabad\n",
      "YEARS OF EXPERIENCE   =>   6 Yrs\n",
      "DESIGNATION   =>   Manual and Automation testing.\n",
      "DESIGNATION   =>   QA Analyst\n",
      "COMPANIES WORKED AT   =>   Oracle\n",
      "DESIGNATION   =>   Test Analyst\n",
      "COMPANIES WORKED AT   =>   Oracle\n",
      "LOCATION   =>   Hyderabad\n",
      "LOCATION   =>   Hyderabad\n",
      "LOCATION   =>   Hyderabad\n",
      "LOCATION   =>   Hyderabad\n",
      "DESIGNATION   =>   Test Analyst\n",
      "COMPANIES WORKED AT   =>   Oracle\n",
      "LOCATION   =>   Hyderabad\n",
      "DESIGNATION   =>   QA Analyst\n",
      "COMPANIES WORKED AT   =>   Oracle\n",
      "DEGREE   =>   MCA\n",
      "COLLEGE NAME   =>   Osmania University\n",
      "DEGREE   =>   B.Sc. in Computer Science\n",
      "COLLEGE NAME   =>   Osmania University\n",
      "SKILLS   =>   Functional Testing, Blue Prism, Qtp\n",
      "COMPANIES WORKED AT   =>   Oracle\n",
      "COMPANIES WORKED AT   =>   Oracle\n",
      "COMPANIES WORKED AT   =>   Oracle\n"
     ]
    }
   ],
   "source": [
    "doc = NLP(TXT)\n",
    "for ent in doc.ents:\n",
    "    print(ent.label_.upper(),\"  =>  \", ent.text)"
   ]
  },
  {
   "cell_type": "code",
   "execution_count": 20,
   "id": "46529c76",
   "metadata": {
    "_cell_guid": "cd7b47d0-842e-46d8-8c2a-932843b3f613",
    "_uuid": "b9067f8e-a9f4-4328-92d0-db08cc048f32",
    "collapsed": false,
    "execution": {
     "iopub.execute_input": "2023-02-08T21:38:44.055804Z",
     "iopub.status.busy": "2023-02-08T21:38:44.054264Z",
     "iopub.status.idle": "2023-02-08T21:38:58.802273Z",
     "shell.execute_reply": "2023-02-08T21:38:58.801048Z"
    },
    "jupyter": {
     "outputs_hidden": false
    },
    "papermill": {
     "duration": 14.774874,
     "end_time": "2023-02-08T21:38:58.804879",
     "exception": false,
     "start_time": "2023-02-08T21:38:44.030005",
     "status": "completed"
    },
    "tags": []
   },
   "outputs": [
    {
     "name": "stdout",
     "output_type": "stream",
     "text": [
      "huggingface/tokenizers: The current process just got forked, after parallelism has already been used. Disabling parallelism to avoid deadlocks...\n",
      "To disable this warning, you can either:\n",
      "\t- Avoid using `tokenizers` before the fork if possible\n",
      "\t- Explicitly set the environment variable TOKENIZERS_PARALLELISM=(true | false)\n",
      "Collecting pyMuPDF\r\n",
      "  Downloading PyMuPDF-1.21.1-cp37-cp37m-manylinux_2_17_x86_64.manylinux2014_x86_64.whl (14.0 MB)\r\n",
      "\u001b[2K     \u001b[90m━━━━━━━━━━━━━━━━━━━━━━━━━━━━━━━━━━━━━━━━\u001b[0m \u001b[32m14.0/14.0 MB\u001b[0m \u001b[31m55.2 MB/s\u001b[0m eta \u001b[36m0:00:00\u001b[0m\r\n",
      "\u001b[?25hInstalling collected packages: pyMuPDF\r\n",
      "Successfully installed pyMuPDF-1.21.1\r\n",
      "\u001b[33mWARNING: Running pip as the 'root' user can result in broken permissions and conflicting behaviour with the system package manager. It is recommended to use a virtual environment instead: https://pip.pypa.io/warnings/venv\u001b[0m\u001b[33m\r\n",
      "\u001b[0m"
     ]
    }
   ],
   "source": [
    "!pip install pyMuPDF"
   ]
  },
  {
   "cell_type": "code",
   "execution_count": 21,
   "id": "43f49e56",
   "metadata": {
    "_cell_guid": "cf50e377-fef5-4d6b-a1d2-7ec76b33e097",
    "_uuid": "09641537-0821-4a68-983a-55e9c8799803",
    "collapsed": false,
    "execution": {
     "iopub.execute_input": "2023-02-08T21:38:58.854723Z",
     "iopub.status.busy": "2023-02-08T21:38:58.854357Z",
     "iopub.status.idle": "2023-02-08T21:38:58.894609Z",
     "shell.execute_reply": "2023-02-08T21:38:58.893686Z"
    },
    "jupyter": {
     "outputs_hidden": false
    },
    "papermill": {
     "duration": 0.067539,
     "end_time": "2023-02-08T21:38:58.896750",
     "exception": false,
     "start_time": "2023-02-08T21:38:58.829211",
     "status": "completed"
    },
    "tags": []
   },
   "outputs": [],
   "source": [
    "import sys, fitz"
   ]
  },
  {
   "cell_type": "code",
   "execution_count": 22,
   "id": "6ff8bae5",
   "metadata": {
    "_cell_guid": "12857a38-8d2d-4529-8fef-57a2019b1e4d",
    "_uuid": "b1ba6924-824f-4bd2-ade8-a5c4a576c03f",
    "collapsed": false,
    "execution": {
     "iopub.execute_input": "2023-02-08T21:38:58.946322Z",
     "iopub.status.busy": "2023-02-08T21:38:58.945393Z",
     "iopub.status.idle": "2023-02-08T21:38:58.983836Z",
     "shell.execute_reply": "2023-02-08T21:38:58.982934Z"
    },
    "jupyter": {
     "outputs_hidden": false
    },
    "papermill": {
     "duration": 0.065221,
     "end_time": "2023-02-08T21:38:58.985861",
     "exception": false,
     "start_time": "2023-02-08T21:38:58.920640",
     "status": "completed"
    },
    "tags": []
   },
   "outputs": [],
   "source": [
    "fname = '/kaggle/input/pdftest/software-tester-1565000935.pdf'\n",
    "doc = fitz.open(fname)"
   ]
  },
  {
   "cell_type": "code",
   "execution_count": 23,
   "id": "8e623141",
   "metadata": {
    "_cell_guid": "251fa6e5-54da-4e66-a55f-9070d0176cb2",
    "_uuid": "a87b8391-2680-41d7-b05b-d053ce9cb95b",
    "collapsed": false,
    "execution": {
     "iopub.execute_input": "2023-02-08T21:38:59.035308Z",
     "iopub.status.busy": "2023-02-08T21:38:59.034367Z",
     "iopub.status.idle": "2023-02-08T21:38:59.056509Z",
     "shell.execute_reply": "2023-02-08T21:38:59.055673Z"
    },
    "jupyter": {
     "outputs_hidden": false
    },
    "papermill": {
     "duration": 0.048706,
     "end_time": "2023-02-08T21:38:59.058392",
     "exception": false,
     "start_time": "2023-02-08T21:38:59.009686",
     "status": "completed"
    },
    "tags": []
   },
   "outputs": [],
   "source": [
    "text = \" \"\n",
    "for page in doc:\n",
    "    text = text + str(page.get_text())"
   ]
  },
  {
   "cell_type": "code",
   "execution_count": 24,
   "id": "f77e34c3",
   "metadata": {
    "_cell_guid": "d43bafe4-8965-4b83-9886-bda66f77d58d",
    "_uuid": "83346c5e-d9a7-4e3b-966f-2e94fa18ec7f",
    "collapsed": false,
    "execution": {
     "iopub.execute_input": "2023-02-08T21:38:59.107689Z",
     "iopub.status.busy": "2023-02-08T21:38:59.106798Z",
     "iopub.status.idle": "2023-02-08T21:38:59.111354Z",
     "shell.execute_reply": "2023-02-08T21:38:59.110540Z"
    },
    "jupyter": {
     "outputs_hidden": false
    },
    "papermill": {
     "duration": 0.030915,
     "end_time": "2023-02-08T21:38:59.113127",
     "exception": false,
     "start_time": "2023-02-08T21:38:59.082212",
     "status": "completed"
    },
    "tags": []
   },
   "outputs": [],
   "source": [
    "text = text.strip()"
   ]
  },
  {
   "cell_type": "code",
   "execution_count": 25,
   "id": "f27a2d2b",
   "metadata": {
    "_cell_guid": "05d076f6-0a55-4777-be52-6b51b0eefa6f",
    "_uuid": "8258d99b-43b9-4741-9a94-753c66d16e50",
    "collapsed": false,
    "execution": {
     "iopub.execute_input": "2023-02-08T21:38:59.163335Z",
     "iopub.status.busy": "2023-02-08T21:38:59.162461Z",
     "iopub.status.idle": "2023-02-08T21:38:59.167324Z",
     "shell.execute_reply": "2023-02-08T21:38:59.166525Z"
    },
    "jupyter": {
     "outputs_hidden": false
    },
    "papermill": {
     "duration": 0.031572,
     "end_time": "2023-02-08T21:38:59.169212",
     "exception": false,
     "start_time": "2023-02-08T21:38:59.137640",
     "status": "completed"
    },
    "tags": []
   },
   "outputs": [],
   "source": [
    "text = ' '.join(text.split())"
   ]
  },
  {
   "cell_type": "code",
   "execution_count": 26,
   "id": "9fe14bbb",
   "metadata": {
    "_cell_guid": "f78af380-9428-4fcf-b45e-db37cbe8d705",
    "_uuid": "13064970-8c95-4587-b884-aeec6a00107e",
    "collapsed": false,
    "execution": {
     "iopub.execute_input": "2023-02-08T21:38:59.217985Z",
     "iopub.status.busy": "2023-02-08T21:38:59.217196Z",
     "iopub.status.idle": "2023-02-08T21:38:59.223415Z",
     "shell.execute_reply": "2023-02-08T21:38:59.222559Z"
    },
    "jupyter": {
     "outputs_hidden": false
    },
    "papermill": {
     "duration": 0.032628,
     "end_time": "2023-02-08T21:38:59.225361",
     "exception": false,
     "start_time": "2023-02-08T21:38:59.192733",
     "status": "completed"
    },
    "tags": []
   },
   "outputs": [
    {
     "data": {
      "text/plain": [
       "'Software Tester ROBERT SMITH Phone: (123) 456 78 99 Email: info@qwikresume.com Website: www.qwikresume.com LinkedIn: linkedin.com/qwikresume Address: 1737 Marshville Road, Alabama. Objective Around 7 years of software testing experience with thorough knowledge of project & software life cycle methodologies. Led a testing team of 23 members which involved teams from both offshore and onshore. Developed and implemented numerous testing guidelines and principles which have led to successful collaborative projects. An accomplished software tester with professionalism and enthusiasm. Skills SDLC Customer Service Scripting & Programming. Work Experience Software Tester ABC Corporation \\xad September 2007 – May 2013 \\uf09f Maintained all the business requirements in Quality Center. \\uf09f Managed, documented and controlled all the test scenarios, test cases, and expected results in Quality Center. \\uf09f Tracked change request activities associated with software development, including enhancements, defects, and documentation modifications using Quality Center. \\uf09f Wrote QTP scripts from scratch using VB Script to automate the functional tests and utilized various checkpoints in the script. \\uf09f Prepared the traceability matrix to make sure all the requirements are adequately covered Attended Bug Scrub Agile meetings every week. \\uf09f Involved in black box testing, functional testing, integration testing, system testing, data integrity testing, regression testing and end-to-end testing. \\uf09f Collaborated with the Scrum Agile team and product owners to develop high-quality testing solutions. Software Tester ABC Corporation \\xad 2003 – 2007 \\uf09f The purpose of this project is to implement an enhanced &quot;Michigan Hospital Market Product&quot; designed to meet the unique needs of hospitals, as employer groups, and provide the necessary flexibility and efficiency needed to manage customer-defined &quot;domestic&quot; provider networks and a variety of tiered product design options. \\uf09f This is a Web Application developed for tracking the customer detail status. \\uf09f The MHMP web application is developed for the customer to view their online activity from the parent level through the sub location level. \\uf09f MHMP provides a flexible architecture that facilitates the creation of an interactive web site where the customers can view Orders, Invoices, Customer Order Summary, Customer Detail Summary, Inventory and View Reports. \\uf09f Responsibilities Actively involved in performing functionality, unit and integration tests Detected Defects, Communicated to the developers using Bug Reporting Tool and Tracking the Defects using Quality Center Extensively used Quality Center for test. © This Free Resume Template is the copyright of Qwikresume.com. Usage Guidelines \\uf09f Tested Web Services and XML using SoapUI Developed test plans, test cases, test scenarios using the Quality Center and prepared test data and prepared Test Cases for GUI application Converted manual test scripts to automated test scripts in Quick Test. \\uf09f Executed the Batch Process scripts using the Test Batch Runner in QTP Analyzed the user requirements and interacted with system architect, developers and business users Participated in Walkthroughs and Defect report meetings periodically EnvironmentJava/J2EE, QuickTestProfessional(QTP), QualityCenter9.0, MSOffice, Oracle, JavaScript, XML, WebServices, SOAPUI, SQL, Unix. Education BS in Mathematics - (Osmania University - Hyderabad, Andhra Pradesh) © This Free Resume Template is the copyright of Qwikresume.com. Usage Guidelines'"
      ]
     },
     "execution_count": 26,
     "metadata": {},
     "output_type": "execute_result"
    }
   ],
   "source": [
    "text"
   ]
  },
  {
   "cell_type": "code",
   "execution_count": 27,
   "id": "fcb760d2",
   "metadata": {
    "_cell_guid": "389a5111-a707-4335-b6fb-f6c83b052552",
    "_uuid": "681a6a67-292d-46b8-ab1d-2e4b2632bb7d",
    "collapsed": false,
    "execution": {
     "iopub.execute_input": "2023-02-08T21:38:59.275299Z",
     "iopub.status.busy": "2023-02-08T21:38:59.274515Z",
     "iopub.status.idle": "2023-02-08T21:39:01.148879Z",
     "shell.execute_reply": "2023-02-08T21:39:01.145024Z"
    },
    "jupyter": {
     "outputs_hidden": false
    },
    "papermill": {
     "duration": 1.902333,
     "end_time": "2023-02-08T21:39:01.151815",
     "exception": false,
     "start_time": "2023-02-08T21:38:59.249482",
     "status": "completed"
    },
    "tags": []
   },
   "outputs": [
    {
     "name": "stdout",
     "output_type": "stream",
     "text": [
      "DESIGNATION   =>   Software Tester ROBERT SMITH\n",
      "DEGREE   =>   BS in Mathematics\n",
      "COLLEGE NAME   =>   Osmania University\n"
     ]
    }
   ],
   "source": [
    "doc = NLP(text)\n",
    "for ent in doc.ents:\n",
    "    print(ent.label_.upper(),\"  =>  \", ent.text)"
   ]
  },
  {
   "cell_type": "code",
   "execution_count": 28,
   "id": "9d536f1a",
   "metadata": {
    "_cell_guid": "0d60e31c-b4aa-40e5-a05c-9f4f03d97e0f",
    "_uuid": "f2d4a6ae-6900-4c44-ab4b-8f7bc33f05ee",
    "collapsed": false,
    "execution": {
     "iopub.execute_input": "2023-02-08T21:39:01.226705Z",
     "iopub.status.busy": "2023-02-08T21:39:01.226191Z",
     "iopub.status.idle": "2023-02-08T21:39:05.626539Z",
     "shell.execute_reply": "2023-02-08T21:39:05.625488Z"
    },
    "jupyter": {
     "outputs_hidden": false
    },
    "papermill": {
     "duration": 4.439308,
     "end_time": "2023-02-08T21:39:05.628982",
     "exception": false,
     "start_time": "2023-02-08T21:39:01.189674",
     "status": "completed"
    },
    "tags": []
   },
   "outputs": [],
   "source": [
    "config = nlp.config\n",
    "bytes_data = nlp.to_bytes()"
   ]
  },
  {
   "cell_type": "code",
   "execution_count": 29,
   "id": "37a41d00",
   "metadata": {
    "execution": {
     "iopub.execute_input": "2023-02-08T21:39:05.679298Z",
     "iopub.status.busy": "2023-02-08T21:39:05.678962Z",
     "iopub.status.idle": "2023-02-08T21:39:10.650356Z",
     "shell.execute_reply": "2023-02-08T21:39:10.649177Z"
    },
    "papermill": {
     "duration": 4.99898,
     "end_time": "2023-02-08T21:39:10.653046",
     "exception": false,
     "start_time": "2023-02-08T21:39:05.654066",
     "status": "completed"
    },
    "tags": []
   },
   "outputs": [
    {
     "data": {
      "text/plain": [
       "<spacy.lang.en.English at 0x7f4c68bb6d10>"
      ]
     },
     "execution_count": 29,
     "metadata": {},
     "output_type": "execute_result"
    }
   ],
   "source": [
    "lang_cls = spacy.util.get_lang_class(config[\"nlp\"][\"lang\"])\n",
    "nlpmodel = lang_cls.from_config(config)\n",
    "nlpmodel.from_bytes(bytes_data)"
   ]
  },
  {
   "cell_type": "code",
   "execution_count": null,
   "id": "e1d99a30",
   "metadata": {
    "papermill": {
     "duration": 0.027389,
     "end_time": "2023-02-08T21:39:10.706020",
     "exception": false,
     "start_time": "2023-02-08T21:39:10.678631",
     "status": "completed"
    },
    "tags": []
   },
   "outputs": [],
   "source": []
  }
 ],
 "metadata": {
  "kernelspec": {
   "display_name": "Python 3",
   "language": "python",
   "name": "python3"
  },
  "language_info": {
   "codemirror_mode": {
    "name": "ipython",
    "version": 3
   },
   "file_extension": ".py",
   "mimetype": "text/x-python",
   "name": "python",
   "nbconvert_exporter": "python",
   "pygments_lexer": "ipython3",
   "version": "3.7.12"
  },
  "papermill": {
   "default_parameters": {},
   "duration": 6785.033445,
   "end_time": "2023-02-08T21:39:13.991309",
   "environment_variables": {},
   "exception": null,
   "input_path": "__notebook__.ipynb",
   "output_path": "__notebook__.ipynb",
   "parameters": {},
   "start_time": "2023-02-08T19:46:08.957864",
   "version": "2.3.4"
  }
 },
 "nbformat": 4,
 "nbformat_minor": 5
}
